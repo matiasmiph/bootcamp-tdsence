{
  "nbformat": 4,
  "nbformat_minor": 0,
  "metadata": {
    "colab": {
      "provenance": [],
      "authorship_tag": "ABX9TyP2bqbvxflN34sownQKnyn6",
      "include_colab_link": true
    },
    "kernelspec": {
      "name": "python3",
      "display_name": "Python 3"
    },
    "language_info": {
      "name": "python"
    }
  },
  "cells": [
    {
      "cell_type": "markdown",
      "metadata": {
        "id": "view-in-github",
        "colab_type": "text"
      },
      "source": [
        "<a href=\"https://colab.research.google.com/github/matiasmiph/bootcamp-tdsence/blob/main/PC_M2.ipynb\" target=\"_parent\"><img src=\"https://colab.research.google.com/assets/colab-badge.svg\" alt=\"Open In Colab\"/></a>"
      ]
    },
    {
      "cell_type": "markdown",
      "source": [
        "### 1. Definir variables básicas y tipos de datos"
      ],
      "metadata": {
        "id": "yoCx61HQBZnD"
      }
    },
    {
      "cell_type": "code",
      "execution_count": 24,
      "metadata": {
        "id": "DcU6YXAhATUO"
      },
      "outputs": [],
      "source": [
        "libros = [\n",
        "    {\n",
        "        \"titulo\": \"Cien años de soledad\",\n",
        "        \"autor\": \"Gabriel García Márquez\",\n",
        "        \"precio\": 15990,\n",
        "        \"cantidad en stock\": 48\n",
        "    },\n",
        "    {\n",
        "        \"titulo\": \"1984\",\n",
        "        \"autor\": \"George Orwell\",\n",
        "        \"precio\": 12500,\n",
        "        \"cantidad en stock\": 30\n",
        "    },\n",
        "    {\n",
        "        \"titulo\": \"Un mundo feliz\",\n",
        "        \"autor\": \"Aldous Huxley\",\n",
        "        \"precio\": 10750,\n",
        "        \"cantidad en stock\": 25\n",
        "    },\n",
        "    {\n",
        "        \"titulo\": \"Poemas y Antipoemas\",\n",
        "        \"autor\": \"Nicanor Parra\",\n",
        "        \"precio\": 14200,\n",
        "        \"cantidad en stock\": 0\n",
        "    },\n",
        "    {\n",
        "        \"titulo\": \"El Principito\",\n",
        "        \"autor\": \"Antoine de Saint-Exupéry\",\n",
        "        \"precio\": 8990,\n",
        "        \"cantidad en stock\": 37\n",
        "    }\n",
        "]"
      ]
    },
    {
      "cell_type": "markdown",
      "source": [
        "### 2. Control de flujo"
      ],
      "metadata": {
        "id": "loMtBVm-BfZq"
      }
    },
    {
      "cell_type": "code",
      "source": [
        "def mostrar_libros_disponibles():\n",
        "    for libro in libros:\n",
        "        if libro[\"cantidad en stock\"] > 1:\n",
        "            print(f\"Título: {libro['titulo']}, Autor: {libro['autor']}, Stock: {libro['cantidad en stock']}\")\n",
        "\n",
        "mostrar_libros_disponibles()"
      ],
      "metadata": {
        "colab": {
          "base_uri": "https://localhost:8080/"
        },
        "id": "lgUsilrxArIT",
        "outputId": "498159cf-ac35-4d86-c7c5-19e6a3a8d5e6"
      },
      "execution_count": 25,
      "outputs": [
        {
          "output_type": "stream",
          "name": "stdout",
          "text": [
            "Título: Cien años de soledad, Autor: Gabriel García Márquez, Stock: 48\n",
            "Título: 1984, Autor: George Orwell, Stock: 30\n",
            "Título: Un mundo feliz, Autor: Aldous Huxley, Stock: 25\n",
            "Título: El Principito, Autor: Antoine de Saint-Exupéry, Stock: 37\n"
          ]
        }
      ]
    },
    {
      "cell_type": "markdown",
      "source": [
        "### 3. Condiciones y operadores"
      ],
      "metadata": {
        "id": "A5n8DUgjB2nO"
      }
    },
    {
      "cell_type": "code",
      "source": [
        "min_precio = float(input(\"Ingrese el precio mínimo: \"))\n",
        "max_precio = float(input(\"Ingrese el precio máximo: \"))\n",
        "\n",
        "print(f\"\\nLibros entre ${min_precio:} y ${max_precio:}:\")\n",
        "encontrados = False\n",
        "for libro in libros:\n",
        "    if min_precio <= libro[\"precio\"] and libro[\"precio\"] <= max_precio:\n",
        "        print(f\"Título: {libro['titulo']}, Autor: {libro['autor']}, Precio: ${libro['precio']:}\")\n",
        "        encontrados = True\n",
        "\n",
        "if not encontrados:\n",
        "    print(\"No se encontraron libros en el rango de precios especificado.\")"
      ],
      "metadata": {
        "colab": {
          "base_uri": "https://localhost:8080/"
        },
        "id": "RmQ32YKHA4So",
        "outputId": "c3cc4906-6f89-433e-c0ce-fbb37c345f44"
      },
      "execution_count": 31,
      "outputs": [
        {
          "output_type": "stream",
          "name": "stdout",
          "text": [
            "Ingrese el precio mínimo: 15000\n",
            "Ingrese el precio máximo: 30000\n",
            "\n",
            "Libros entre $15000.0 y $30000.0:\n",
            "Título: Cien años de soledad, Autor: Gabriel García Márquez, Precio: $15990\n"
          ]
        }
      ]
    },
    {
      "cell_type": "markdown",
      "source": [
        "### 4. Función personalizada para simular una compra"
      ],
      "metadata": {
        "id": "uK2IOCrRB479"
      }
    },
    {
      "cell_type": "code",
      "source": [
        "def comprar_libros(titulo, cantidad):\n",
        "    for libro in libros:\n",
        "        if libro[\"titulo\"].lower() == titulo.lower():\n",
        "            if libro[\"cantidad en stock\"] >= cantidad:\n",
        "                libro[\"cantidad en stock\"] -= cantidad\n",
        "                monto_total = libro[\"precio\"] * cantidad\n",
        "                print(f\"Compra realizada: {cantidad} unidades de '{libro['titulo']}'. Monto total: ${monto_total:}\")\n",
        "                return\n",
        "            else:\n",
        "                print(f\"Error: No hay suficiente stock de '{libro['titulo']}'. Stock disponible: {libro['cantidad en stock']}\")\n",
        "                return\n",
        "    print(f\"Error: El libro '{titulo}' no se encontró en el inventario.\")\n",
        "\n",
        "comprar_libros('El Principito', 4)"
      ],
      "metadata": {
        "colab": {
          "base_uri": "https://localhost:8080/"
        },
        "id": "x2VEMqQaBVwM",
        "outputId": "ab214c86-fba4-4b83-e926-7c0015aadfdc"
      },
      "execution_count": 23,
      "outputs": [
        {
          "output_type": "stream",
          "name": "stdout",
          "text": [
            "Error: No hay suficiente stock de 'El Principito'. Stock disponible: 1\n"
          ]
        }
      ]
    },
    {
      "cell_type": "markdown",
      "source": [
        "### 5. Uso de bucle while para iterar hasta que el usuario decida salir"
      ],
      "metadata": {
        "id": "3eK7tvvrCjYJ"
      }
    },
    {
      "cell_type": "markdown",
      "source": [
        "### 6. Estructura de datos, gestión de descuentos"
      ],
      "metadata": {
        "id": "3YOVCgJFDHhb"
      }
    },
    {
      "cell_type": "code",
      "source": [
        "# Descuentos\n",
        "descuentos_por_autor = {\n",
        "    \"Gabriel García Márquez\": 0.10,  # 10% de descuento\n",
        "    \"George Orwell\": 0.05,          # 5% de descuento\n",
        "}\n",
        "\n",
        "total_libros_comprados = 0\n",
        "monto_total_pagado = 0.0\n",
        "ahorro_por_descuentos = 0.0"
      ],
      "metadata": {
        "id": "4455d5sbCpJT"
      },
      "execution_count": 30,
      "outputs": []
    },
    {
      "cell_type": "markdown",
      "source": [
        "### 7. Simulación de una factura"
      ],
      "metadata": {
        "id": "-6HvfT1hDdhg"
      }
    },
    {
      "cell_type": "code",
      "source": [
        "while True:\n",
        "    print(\"\\n--- Menú de Compras ---\")\n",
        "    print(\"1. Comprar libro\")\n",
        "    print(\"2. Mostrar libros disponibles\")\n",
        "    print(\"3. Filtrar libros por precio\")\n",
        "    print(\"4. Finalizar compra y mostrar factura\")\n",
        "    print(\"5. Salir\")\n",
        "\n",
        "    opcion = input(\"Seleccione una opción: \")\n",
        "\n",
        "    if opcion == '1':\n",
        "        titulo_compra = input(\"Ingrese el título del libro que desea comprar: \")\n",
        "        try:\n",
        "            cantidad_compra = int(input(\"Ingrese la cantidad que desea comprar: \"))\n",
        "            comprar_libros(titulo_compra, cantidad_compra)\n",
        "        except ValueError:\n",
        "            print(\"Entrada inválida. La cantidad debe ser un número entero.\")\n",
        "    elif opcion == '2':\n",
        "        mostrar_libros_disponibles(libros)\n",
        "    elif opcion == '3':\n",
        "        try:\n",
        "            min_precio = float(input(\"Ingrese el precio mínimo: \"))\n",
        "            max_precio = float(input(\"Ingrese el precio máximo: \"))\n",
        "            print(f\"\\nLibros entre ${min_precio:} y ${max_precio:}:\")\n",
        "            encontrados = False\n",
        "            for libro in libros:\n",
        "                if min_precio <= libro[\"precio\"] and libro[\"precio\"] <= max_precio:\n",
        "                    print(f\"Título: {libro['titulo']}, Autor: {libro['autor']}, Precio: ${libro['precio']:}\")\n",
        "                    encontrados = True\n",
        "            if not encontrados:\n",
        "                print(\"No se encontraron libros en el rango de precios especificado.\")\n",
        "        except ValueError:\n",
        "            print(\"Entrada inválida. Por favor, ingrese números para los precios.\")\n",
        "    elif opcion == '4':\n",
        "        print(\"\\n--- Resumen de Compra (Factura) ---\")\n",
        "        print(f\"Total de libros comprados: {total_libros_comprados}\")\n",
        "        print(f\"Monto total pagado: ${monto_total_pagado:}\")\n",
        "        print(f\"Ahorro por descuentos: ${ahorro_por_descuentos:}\")\n",
        "        print(\"Gracias por su compra!\")\n",
        "        break\n",
        "    elif opcion == '5':\n",
        "        print(\"Saliendo del programa sin finalizar compra.\")\n",
        "        break\n",
        "    else:\n",
        "        print(\"Opción no válida. Por favor, intente de nuevo.\")"
      ],
      "metadata": {
        "colab": {
          "base_uri": "https://localhost:8080/"
        },
        "id": "i2vNoG9_DLAc",
        "outputId": "a144c42c-a0e8-451e-ffcc-f5333f678844"
      },
      "execution_count": 29,
      "outputs": [
        {
          "output_type": "stream",
          "name": "stdout",
          "text": [
            "\n",
            "--- Menú de Compras ---\n",
            "1. Comprar libro\n",
            "2. Mostrar libros disponibles\n",
            "3. Filtrar libros por precio\n",
            "4. Finalizar compra y mostrar factura\n",
            "5. Salir\n",
            "Seleccione una opción: 5\n",
            "Saliendo del programa sin finalizar compra.\n"
          ]
        }
      ]
    },
    {
      "cell_type": "code",
      "source": [],
      "metadata": {
        "id": "xzFSl67_EoC3"
      },
      "execution_count": null,
      "outputs": []
    }
  ]
}